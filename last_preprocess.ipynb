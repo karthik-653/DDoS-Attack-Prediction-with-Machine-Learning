{
 "cells": [
  {
   "cell_type": "code",
   "execution_count": 1,
   "id": "1e2ef4ef",
   "metadata": {},
   "outputs": [],
   "source": [
    "import pandas as pd\n",
    "import numpy as np\n",
    "from sklearn.model_selection import train_test_split"
   ]
  },
  {
   "cell_type": "code",
   "execution_count": 4,
   "id": "8a2ed5ae",
   "metadata": {},
   "outputs": [],
   "source": [
    "portmap = pd.read_csv('portmap7.csv',low_memory=False)\n",
    "port_cols = list(portmap.columns.values)\n"
   ]
  },
  {
   "cell_type": "code",
   "execution_count": 55,
   "id": "7bc62bd6",
   "metadata": {},
   "outputs": [],
   "source": [
    "syn = pd.read_csv('syn7.csv',low_memory=False)"
   ]
  },
  {
   "cell_type": "code",
   "execution_count": 56,
   "id": "24c1066c",
   "metadata": {},
   "outputs": [],
   "source": [
    "syn = syn[:-187000]"
   ]
  },
  {
   "cell_type": "code",
   "execution_count": 57,
   "id": "ae8be226",
   "metadata": {},
   "outputs": [
    {
     "name": "stdout",
     "output_type": "stream",
     "text": [
      "Portmap=  (191694, 89)\n",
      "SYN=  (4694, 89)\n"
     ]
    }
   ],
   "source": [
    "print(\"Portmap= \",portmap.shape)\n",
    "print(\"SYN= \",syn.shape)"
   ]
  },
  {
   "cell_type": "code",
   "execution_count": 58,
   "id": "110c2a0c",
   "metadata": {},
   "outputs": [],
   "source": [
    "ds = pd.concat([portmap, syn])"
   ]
  },
  {
   "cell_type": "code",
   "execution_count": 59,
   "id": "82002476",
   "metadata": {},
   "outputs": [],
   "source": [
    "ds = ds[ds[' Label'] != 'Portmap']"
   ]
  },
  {
   "cell_type": "code",
   "execution_count": 60,
   "id": "bbddbd47",
   "metadata": {},
   "outputs": [
    {
     "data": {
      "text/plain": [
       "BENIGN    4734\n",
       "Syn       4694\n",
       "Name:  Label, dtype: int64"
      ]
     },
     "execution_count": 60,
     "metadata": {},
     "output_type": "execute_result"
    }
   ],
   "source": [
    "ds[' Label'].value_counts()"
   ]
  },
  {
   "cell_type": "code",
   "execution_count": 61,
   "id": "aeddedde",
   "metadata": {},
   "outputs": [],
   "source": [
    "ds[' Label'] = ds[' Label'].replace('BENIGN', '0')\n",
    "ds[' Label'] = ds[' Label'].replace('Syn', '1')"
   ]
  },
  {
   "cell_type": "code",
   "execution_count": 62,
   "id": "36c67559",
   "metadata": {},
   "outputs": [],
   "source": [
    "import ipaddress\n",
    "ips = ds[' Destination IP']\n",
    "converted=[]\n",
    "\n",
    "for ip in ips:\n",
    "    ip = int(ipaddress.IPv4Address(ip))\n",
    "    converted.append(ip)"
   ]
  },
  {
   "cell_type": "code",
   "execution_count": 63,
   "id": "260ee735",
   "metadata": {},
   "outputs": [
    {
     "name": "stdout",
     "output_type": "stream",
     "text": [
      "<class 'pandas.core.frame.DataFrame'>\n",
      "Int64Index: 9428 entries, 0 to 4693\n",
      "Data columns (total 89 columns):\n",
      " #   Column                        Non-Null Count  Dtype  \n",
      "---  ------                        --------------  -----  \n",
      " 0   Unnamed: 0                    9428 non-null   int64  \n",
      " 1   Unnamed: 0.1                  9428 non-null   int64  \n",
      " 2   Flow ID                       9428 non-null   object \n",
      " 3    Source IP                    9428 non-null   object \n",
      " 4    Source Port                  9428 non-null   int64  \n",
      " 5    Destination IP               9428 non-null   int64  \n",
      " 6    Destination Port             9428 non-null   int64  \n",
      " 7    Protocol                     9428 non-null   int64  \n",
      " 8    Timestamp                    9428 non-null   object \n",
      " 9    Flow Duration                9428 non-null   int64  \n",
      " 10   Total Fwd Packets            9428 non-null   int64  \n",
      " 11   Total Backward Packets       9428 non-null   int64  \n",
      " 12  Total Length of Fwd Packets   9428 non-null   float64\n",
      " 13   Total Length of Bwd Packets  9428 non-null   float64\n",
      " 14   Fwd Packet Length Max        9428 non-null   float64\n",
      " 15   Fwd Packet Length Min        9428 non-null   float64\n",
      " 16   Fwd Packet Length Mean       9428 non-null   float64\n",
      " 17   Fwd Packet Length Std        9428 non-null   float64\n",
      " 18  Bwd Packet Length Max         9428 non-null   float64\n",
      " 19   Bwd Packet Length Min        9428 non-null   float64\n",
      " 20   Bwd Packet Length Mean       9428 non-null   float64\n",
      " 21   Bwd Packet Length Std        9428 non-null   float64\n",
      " 22  Flow Bytes/s                  9427 non-null   float64\n",
      " 23   Flow Packets/s               9428 non-null   float64\n",
      " 24   Flow IAT Mean                9428 non-null   float64\n",
      " 25   Flow IAT Std                 9428 non-null   float64\n",
      " 26   Flow IAT Max                 9428 non-null   float64\n",
      " 27   Flow IAT Min                 9428 non-null   float64\n",
      " 28  Fwd IAT Total                 9428 non-null   float64\n",
      " 29   Fwd IAT Mean                 9428 non-null   float64\n",
      " 30   Fwd IAT Std                  9428 non-null   float64\n",
      " 31   Fwd IAT Max                  9428 non-null   float64\n",
      " 32   Fwd IAT Min                  9428 non-null   float64\n",
      " 33  Bwd IAT Total                 9428 non-null   float64\n",
      " 34   Bwd IAT Mean                 9428 non-null   float64\n",
      " 35   Bwd IAT Std                  9428 non-null   float64\n",
      " 36   Bwd IAT Max                  9428 non-null   float64\n",
      " 37   Bwd IAT Min                  9428 non-null   float64\n",
      " 38  Fwd PSH Flags                 9428 non-null   int64  \n",
      " 39   Bwd PSH Flags                9428 non-null   int64  \n",
      " 40   Fwd URG Flags                9428 non-null   int64  \n",
      " 41   Bwd URG Flags                9428 non-null   int64  \n",
      " 42   Fwd Header Length            9428 non-null   int64  \n",
      " 43   Bwd Header Length            9428 non-null   int64  \n",
      " 44  Fwd Packets/s                 9428 non-null   float64\n",
      " 45   Bwd Packets/s                9428 non-null   float64\n",
      " 46   Min Packet Length            9428 non-null   float64\n",
      " 47   Max Packet Length            9428 non-null   float64\n",
      " 48   Packet Length Mean           9428 non-null   float64\n",
      " 49   Packet Length Std            9428 non-null   float64\n",
      " 50   Packet Length Variance       9428 non-null   float64\n",
      " 51  FIN Flag Count                9428 non-null   int64  \n",
      " 52   SYN Flag Count               9428 non-null   int64  \n",
      " 53   RST Flag Count               9428 non-null   int64  \n",
      " 54   PSH Flag Count               9428 non-null   int64  \n",
      " 55   ACK Flag Count               9428 non-null   int64  \n",
      " 56   URG Flag Count               9428 non-null   int64  \n",
      " 57   CWE Flag Count               9428 non-null   int64  \n",
      " 58   ECE Flag Count               9428 non-null   int64  \n",
      " 59   Down/Up Ratio                9428 non-null   float64\n",
      " 60   Average Packet Size          9428 non-null   float64\n",
      " 61   Avg Fwd Segment Size         9428 non-null   float64\n",
      " 62   Avg Bwd Segment Size         9428 non-null   float64\n",
      " 63   Fwd Header Length.1          9428 non-null   int64  \n",
      " 64  Fwd Avg Bytes/Bulk            9428 non-null   int64  \n",
      " 65   Fwd Avg Packets/Bulk         9428 non-null   int64  \n",
      " 66   Fwd Avg Bulk Rate            9428 non-null   int64  \n",
      " 67   Bwd Avg Bytes/Bulk           9428 non-null   int64  \n",
      " 68   Bwd Avg Packets/Bulk         9428 non-null   int64  \n",
      " 69  Bwd Avg Bulk Rate             9428 non-null   int64  \n",
      " 70  Subflow Fwd Packets           9428 non-null   int64  \n",
      " 71   Subflow Fwd Bytes            9428 non-null   int64  \n",
      " 72   Subflow Bwd Packets          9428 non-null   int64  \n",
      " 73   Subflow Bwd Bytes            9428 non-null   int64  \n",
      " 74  Init_Win_bytes_forward        9428 non-null   int64  \n",
      " 75   Init_Win_bytes_backward      9428 non-null   int64  \n",
      " 76   act_data_pkt_fwd             9428 non-null   int64  \n",
      " 77   min_seg_size_forward         9428 non-null   int64  \n",
      " 78  Active Mean                   9428 non-null   float64\n",
      " 79   Active Std                   9428 non-null   float64\n",
      " 80   Active Max                   9428 non-null   float64\n",
      " 81   Active Min                   9428 non-null   float64\n",
      " 82  Idle Mean                     9428 non-null   float64\n",
      " 83   Idle Std                     9428 non-null   float64\n",
      " 84   Idle Max                     9428 non-null   float64\n",
      " 85   Idle Min                     9428 non-null   float64\n",
      " 86  SimillarHTTP                  9428 non-null   object \n",
      " 87   Inbound                      9428 non-null   int64  \n",
      " 88   Label                        9428 non-null   object \n",
      "dtypes: float64(45), int64(39), object(5)\n",
      "memory usage: 6.5+ MB\n"
     ]
    }
   ],
   "source": [
    "ds[' Destination IP'] = converted\n",
    "ds.info()"
   ]
  },
  {
   "cell_type": "code",
   "execution_count": 64,
   "id": "8812decf",
   "metadata": {},
   "outputs": [],
   "source": [
    "drop_cols = ['Unnamed: 0',\n",
    "             'Unnamed: 0.1',\n",
    "             'Flow ID',\n",
    "             ' Source IP',\n",
    "             ' Total Fwd Packets',\n",
    "             ' Total Backward Packets',\n",
    "             ' Total Length of Bwd Packets',\n",
    "             'Flow Bytes/s',\n",
    "             ' Flow Packets/s',\n",
    "             ' Flow IAT Max',\n",
    "             ' Flow IAT Min',\n",
    "             'Bwd IAT Total',\n",
    "             ' Bwd IAT Max',\n",
    "             ' Bwd IAT Std',\n",
    "             ' Fwd Header Length',\n",
    "             ' Bwd IAT Min',\n",
    "             ' Bwd Packets/s',\n",
    "             ' Bwd Header Length',\n",
    "             ' Fwd Header Length',\n",
    "             ' SYN Flag Count',\n",
    "             ' Down/Up Ratio',\n",
    "             ' Fwd Header Length.1',\n",
    "             'Subflow Fwd Packets',\n",
    "             ' Subflow Bwd Packets',\n",
    "             ' min_seg_size_forward',\n",
    "             ' Active Std',\n",
    "             ' Active Max',\n",
    "             ' Active Min',\n",
    "             ' Idle Max',\n",
    "             ' Idle Min',\n",
    "             ' Packet Length Std',\n",
    "             ' Bwd PSH Flags',\n",
    "             ' Fwd URG Flags',\n",
    "             ' Bwd URG Flags',\n",
    "             'FIN Flag Count',\n",
    "             ' PSH Flag Count',\n",
    "             ' ECE Flag Count',\n",
    "             'Fwd Avg Bytes/Bulk',\n",
    "             ' Fwd Avg Packets/Bulk',\n",
    "             ' Fwd Avg Bulk Rate',\n",
    "             ' Bwd Avg Bytes/Bulk',\n",
    "             ' Bwd Avg Packets/Bulk',\n",
    "             'Bwd Avg Bulk Rate',\n",
    "             'SimillarHTTP',\n",
    "             ' Inbound',\n",
    "             ' Timestamp']"
   ]
  },
  {
   "cell_type": "code",
   "execution_count": 65,
   "id": "a73ec078",
   "metadata": {},
   "outputs": [],
   "source": [
    "ds = ds.drop(drop_cols, axis=1)"
   ]
  },
  {
   "cell_type": "code",
   "execution_count": 66,
   "id": "95e2d4cd",
   "metadata": {},
   "outputs": [
    {
     "name": "stdout",
     "output_type": "stream",
     "text": [
      "<class 'pandas.core.frame.DataFrame'>\n",
      "Int64Index: 9428 entries, 0 to 4693\n",
      "Data columns (total 44 columns):\n",
      " #   Column                       Non-Null Count  Dtype  \n",
      "---  ------                       --------------  -----  \n",
      " 0    Source Port                 9428 non-null   int64  \n",
      " 1    Destination IP              9428 non-null   int64  \n",
      " 2    Destination Port            9428 non-null   int64  \n",
      " 3    Protocol                    9428 non-null   int64  \n",
      " 4    Flow Duration               9428 non-null   int64  \n",
      " 5   Total Length of Fwd Packets  9428 non-null   float64\n",
      " 6    Fwd Packet Length Max       9428 non-null   float64\n",
      " 7    Fwd Packet Length Min       9428 non-null   float64\n",
      " 8    Fwd Packet Length Mean      9428 non-null   float64\n",
      " 9    Fwd Packet Length Std       9428 non-null   float64\n",
      " 10  Bwd Packet Length Max        9428 non-null   float64\n",
      " 11   Bwd Packet Length Min       9428 non-null   float64\n",
      " 12   Bwd Packet Length Mean      9428 non-null   float64\n",
      " 13   Bwd Packet Length Std       9428 non-null   float64\n",
      " 14   Flow IAT Mean               9428 non-null   float64\n",
      " 15   Flow IAT Std                9428 non-null   float64\n",
      " 16  Fwd IAT Total                9428 non-null   float64\n",
      " 17   Fwd IAT Mean                9428 non-null   float64\n",
      " 18   Fwd IAT Std                 9428 non-null   float64\n",
      " 19   Fwd IAT Max                 9428 non-null   float64\n",
      " 20   Fwd IAT Min                 9428 non-null   float64\n",
      " 21   Bwd IAT Mean                9428 non-null   float64\n",
      " 22  Fwd PSH Flags                9428 non-null   int64  \n",
      " 23  Fwd Packets/s                9428 non-null   float64\n",
      " 24   Min Packet Length           9428 non-null   float64\n",
      " 25   Max Packet Length           9428 non-null   float64\n",
      " 26   Packet Length Mean          9428 non-null   float64\n",
      " 27   Packet Length Variance      9428 non-null   float64\n",
      " 28   RST Flag Count              9428 non-null   int64  \n",
      " 29   ACK Flag Count              9428 non-null   int64  \n",
      " 30   URG Flag Count              9428 non-null   int64  \n",
      " 31   CWE Flag Count              9428 non-null   int64  \n",
      " 32   Average Packet Size         9428 non-null   float64\n",
      " 33   Avg Fwd Segment Size        9428 non-null   float64\n",
      " 34   Avg Bwd Segment Size        9428 non-null   float64\n",
      " 35   Subflow Fwd Bytes           9428 non-null   int64  \n",
      " 36   Subflow Bwd Bytes           9428 non-null   int64  \n",
      " 37  Init_Win_bytes_forward       9428 non-null   int64  \n",
      " 38   Init_Win_bytes_backward     9428 non-null   int64  \n",
      " 39   act_data_pkt_fwd            9428 non-null   int64  \n",
      " 40  Active Mean                  9428 non-null   float64\n",
      " 41  Idle Mean                    9428 non-null   float64\n",
      " 42   Idle Std                    9428 non-null   float64\n",
      " 43  Label                        9428 non-null   object \n",
      "dtypes: float64(28), int64(15), object(1)\n",
      "memory usage: 3.2+ MB\n"
     ]
    }
   ],
   "source": [
    "ds = ds.rename(columns={\" Label\": \"Label\"})\n",
    "ds.info()"
   ]
  },
  {
   "cell_type": "code",
   "execution_count": 67,
   "id": "fe920aff",
   "metadata": {},
   "outputs": [
    {
     "data": {
      "text/plain": [
       "0    4734\n",
       "1    4694\n",
       "Name: Label, dtype: int64"
      ]
     },
     "execution_count": 67,
     "metadata": {},
     "output_type": "execute_result"
    }
   ],
   "source": [
    "ds.Label.value_counts()"
   ]
  },
  {
   "cell_type": "code",
   "execution_count": 68,
   "id": "a72238eb",
   "metadata": {},
   "outputs": [],
   "source": [
    "ds.to_csv('new_clean.csv')"
   ]
  }
 ],
 "metadata": {
  "kernelspec": {
   "display_name": "Python 3",
   "language": "python",
   "name": "python3"
  },
  "language_info": {
   "codemirror_mode": {
    "name": "ipython",
    "version": 3
   },
   "file_extension": ".py",
   "mimetype": "text/x-python",
   "name": "python",
   "nbconvert_exporter": "python",
   "pygments_lexer": "ipython3",
   "version": "3.8.8"
  }
 },
 "nbformat": 4,
 "nbformat_minor": 5
}
